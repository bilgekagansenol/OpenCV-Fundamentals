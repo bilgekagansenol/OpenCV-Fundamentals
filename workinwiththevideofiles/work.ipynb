{
 "cells": [
  {
   "cell_type": "code",
   "execution_count": 1,
   "metadata": {},
   "outputs": [],
   "source": [
    "import cv2"
   ]
  },
  {
   "cell_type": "code",
   "execution_count": 34,
   "metadata": {},
   "outputs": [],
   "source": [
    "#load the video \n",
    "video = cv2.VideoCapture(\"./mountain.mp4\") # bi object verdi . bu video değil videocapture object ve frameleri one by one veriyor"
   ]
  },
  {
   "cell_type": "code",
   "execution_count": 31,
   "metadata": {},
   "outputs": [],
   "source": [
    "## display the video\n",
    "while True:\n",
    "    ret,frame =  video.read()\n",
    "    if ret == False:\n",
    "        break\n",
    "    cv2.imshow(\"video frame\",frame)\n",
    "    if cv2.waitKey(16) & 0xFF== ord('q'):\n",
    "        break\n",
    "\n",
    "#waitkeyin paramtresi kaç milisaniye bekliyceği\n",
    "\n",
    "video.release() ## bu dosya video bağlantısını kesmek için \n",
    "##FPS = 1000 / waitKey süresi (ms)\n",
    "cv2.destroyAllWindows()"
   ]
  },
  {
   "cell_type": "code",
   "execution_count": 35,
   "metadata": {},
   "outputs": [],
   "source": [
    "## write a video\n",
    "fourcc =  cv2.VideoWriter_fourcc(*\"mp4v\")\n",
    "\n",
    "width = int(video.get(cv2.CAP_PROP_FRAME_WIDTH))\n",
    "height = int(video.get(cv2.CAP_PROP_FRAME_HEIGHT))\n",
    "out = cv2.VideoWriter(\"./output1.mp4\" , fourcc, 60 , (width, height))\n",
    "\n",
    "while True:\n",
    "    ret , frame = video.read()\n",
    "    if not ret:\n",
    "        break\n",
    "    frame = frame + 20\n",
    "    out.write(frame)\n",
    "\n",
    "out.release()\n",
    "video.release()\n",
    "cv2.destroyAllWindows()"
   ]
  }
 ],
 "metadata": {
  "kernelspec": {
   "display_name": "myenvv",
   "language": "python",
   "name": "python3"
  },
  "language_info": {
   "codemirror_mode": {
    "name": "ipython",
    "version": 3
   },
   "file_extension": ".py",
   "mimetype": "text/x-python",
   "name": "python",
   "nbconvert_exporter": "python",
   "pygments_lexer": "ipython3",
   "version": "3.10.18"
  }
 },
 "nbformat": 4,
 "nbformat_minor": 2
}
